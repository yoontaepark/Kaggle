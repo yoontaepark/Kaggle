{
 "cells": [
  {
   "cell_type": "code",
   "execution_count": 1,
   "id": "0b16b8c8",
   "metadata": {},
   "outputs": [
    {
     "name": "stdout",
     "output_type": "stream",
     "text": [
      "0.24.1\n"
     ]
    }
   ],
   "source": [
    "# sklearn 에 대해 \n",
    "import sklearn\n",
    "\n",
    "print(sklearn.__version__)"
   ]
  },
  {
   "cell_type": "code",
   "execution_count": 19,
   "id": "1f409cdf",
   "metadata": {},
   "outputs": [
    {
     "name": "stdout",
     "output_type": "stream",
     "text": [
      "['sepal length (cm)', 'sepal width (cm)', 'petal length (cm)', 'petal width (cm)'] ['setosa' 'versicolor' 'virginica']\n"
     ]
    }
   ],
   "source": [
    "from sklearn.datasets import load_iris\n",
    "from sklearn.tree import DecisionTreeClassifier\n",
    "from sklearn.model_selection import train_test_split\n",
    "\n",
    "import numpy as np\n",
    "import pandas as pd\n",
    "\n",
    "# load 해보면 걍 bunch라고 나오는데, 그게 중요한건 아니고 value들이네 정도 생각\n",
    "# 그다음에 데이터 프레임에 넣어보자 \n",
    "iris = load_iris()\n",
    "\n",
    "# (150,4) feature(data) set\n",
    "iris_data = iris.data\n",
    "# print(iris_data, iris_data.shape)\n",
    "\n",
    "# (150,) target(label) set\n",
    "iris_label = iris.target\n",
    "# print(iris_label, iris_label.shape)\n",
    "\n",
    "# name of feature and target\n",
    "print(iris.feature_names, iris.target_names)\n",
    "\n",
    "# creating dataframe\n",
    "iris_df = pd.DataFrame(data = iris_data, columns=iris.feature_names)"
   ]
  },
  {
   "cell_type": "code",
   "execution_count": 20,
   "id": "81463c21",
   "metadata": {},
   "outputs": [
    {
     "data": {
      "text/html": [
       "<div>\n",
       "<style scoped>\n",
       "    .dataframe tbody tr th:only-of-type {\n",
       "        vertical-align: middle;\n",
       "    }\n",
       "\n",
       "    .dataframe tbody tr th {\n",
       "        vertical-align: top;\n",
       "    }\n",
       "\n",
       "    .dataframe thead th {\n",
       "        text-align: right;\n",
       "    }\n",
       "</style>\n",
       "<table border=\"1\" class=\"dataframe\">\n",
       "  <thead>\n",
       "    <tr style=\"text-align: right;\">\n",
       "      <th></th>\n",
       "      <th>sepal length (cm)</th>\n",
       "      <th>sepal width (cm)</th>\n",
       "      <th>petal length (cm)</th>\n",
       "      <th>petal width (cm)</th>\n",
       "    </tr>\n",
       "  </thead>\n",
       "  <tbody>\n",
       "    <tr>\n",
       "      <th>0</th>\n",
       "      <td>5.1</td>\n",
       "      <td>3.5</td>\n",
       "      <td>1.4</td>\n",
       "      <td>0.2</td>\n",
       "    </tr>\n",
       "    <tr>\n",
       "      <th>1</th>\n",
       "      <td>4.9</td>\n",
       "      <td>3.0</td>\n",
       "      <td>1.4</td>\n",
       "      <td>0.2</td>\n",
       "    </tr>\n",
       "    <tr>\n",
       "      <th>2</th>\n",
       "      <td>4.7</td>\n",
       "      <td>3.2</td>\n",
       "      <td>1.3</td>\n",
       "      <td>0.2</td>\n",
       "    </tr>\n",
       "  </tbody>\n",
       "</table>\n",
       "</div>"
      ],
      "text/plain": [
       "   sepal length (cm)  sepal width (cm)  petal length (cm)  petal width (cm)\n",
       "0                5.1               3.5                1.4               0.2\n",
       "1                4.9               3.0                1.4               0.2\n",
       "2                4.7               3.2                1.3               0.2"
      ]
     },
     "execution_count": 20,
     "metadata": {},
     "output_type": "execute_result"
    }
   ],
   "source": [
    "iris_df.head(3)"
   ]
  },
  {
   "cell_type": "code",
   "execution_count": 21,
   "id": "948d2c7c",
   "metadata": {},
   "outputs": [
    {
     "data": {
      "text/html": [
       "<div>\n",
       "<style scoped>\n",
       "    .dataframe tbody tr th:only-of-type {\n",
       "        vertical-align: middle;\n",
       "    }\n",
       "\n",
       "    .dataframe tbody tr th {\n",
       "        vertical-align: top;\n",
       "    }\n",
       "\n",
       "    .dataframe thead th {\n",
       "        text-align: right;\n",
       "    }\n",
       "</style>\n",
       "<table border=\"1\" class=\"dataframe\">\n",
       "  <thead>\n",
       "    <tr style=\"text-align: right;\">\n",
       "      <th></th>\n",
       "      <th>sepal length (cm)</th>\n",
       "      <th>sepal width (cm)</th>\n",
       "      <th>petal length (cm)</th>\n",
       "      <th>petal width (cm)</th>\n",
       "      <th>label</th>\n",
       "    </tr>\n",
       "  </thead>\n",
       "  <tbody>\n",
       "    <tr>\n",
       "      <th>0</th>\n",
       "      <td>5.1</td>\n",
       "      <td>3.5</td>\n",
       "      <td>1.4</td>\n",
       "      <td>0.2</td>\n",
       "      <td>0</td>\n",
       "    </tr>\n",
       "    <tr>\n",
       "      <th>1</th>\n",
       "      <td>4.9</td>\n",
       "      <td>3.0</td>\n",
       "      <td>1.4</td>\n",
       "      <td>0.2</td>\n",
       "      <td>0</td>\n",
       "    </tr>\n",
       "    <tr>\n",
       "      <th>2</th>\n",
       "      <td>4.7</td>\n",
       "      <td>3.2</td>\n",
       "      <td>1.3</td>\n",
       "      <td>0.2</td>\n",
       "      <td>0</td>\n",
       "    </tr>\n",
       "  </tbody>\n",
       "</table>\n",
       "</div>"
      ],
      "text/plain": [
       "   sepal length (cm)  sepal width (cm)  petal length (cm)  petal width (cm)  \\\n",
       "0                5.1               3.5                1.4               0.2   \n",
       "1                4.9               3.0                1.4               0.2   \n",
       "2                4.7               3.2                1.3               0.2   \n",
       "\n",
       "   label  \n",
       "0      0  \n",
       "1      0  \n",
       "2      0  "
      ]
     },
     "execution_count": 21,
     "metadata": {},
     "output_type": "execute_result"
    }
   ],
   "source": [
    "# add target in dataframe, w column name 'label'\n",
    "iris_df['label'] = iris.target\n",
    "iris_df.head(3)"
   ]
  },
  {
   "cell_type": "code",
   "execution_count": 24,
   "id": "a0336917",
   "metadata": {},
   "outputs": [
    {
     "data": {
      "text/plain": [
       "(0    50\n",
       " 1    50\n",
       " 2    50\n",
       " Name: label, dtype: int64,\n",
       " array(['setosa', 'versicolor', 'virginica'], dtype='<U10'))"
      ]
     },
     "execution_count": 24,
     "metadata": {},
     "output_type": "execute_result"
    }
   ],
   "source": [
    "# target has three values, which are 'setosa', 'versicolor', 'virginica'\n",
    "iris_df['label'].value_counts(), iris.target_names"
   ]
  },
  {
   "cell_type": "code",
   "execution_count": 29,
   "id": "852b2981",
   "metadata": {},
   "outputs": [],
   "source": [
    "# divide train set to train / validation sets\n",
    "# train_test_split(data, label, test_size, random_state)\n",
    "# can divide to train(X(feature)/y(target)), test(X(feature)/y(target))\n",
    "\n",
    "X_train, X_test, y_train, y_test = train_test_split(iris_data, iris_label, test_size=0.2, random_state=11)\n"
   ]
  },
  {
   "cell_type": "code",
   "execution_count": 30,
   "id": "dff9032f",
   "metadata": {},
   "outputs": [
    {
     "data": {
      "text/plain": [
       "DecisionTreeClassifier(random_state=11)"
      ]
     },
     "execution_count": 30,
     "metadata": {},
     "output_type": "execute_result"
    }
   ],
   "source": [
    "# creating DecisionTreeClassifier, create classifier object\n",
    "\n",
    "dt_clf = DecisionTreeClassifier(random_state=11)\n",
    "\n",
    "# use train function in decision tree classifier object\n",
    "dt_clf.fit(X_train, y_train)\n"
   ]
  },
  {
   "cell_type": "code",
   "execution_count": 31,
   "id": "7a76fc83",
   "metadata": {},
   "outputs": [],
   "source": [
    "# after training, predict for test sets \n",
    "pred = dt_clf.predict(X_test)"
   ]
  },
  {
   "cell_type": "code",
   "execution_count": 32,
   "id": "44fd376d",
   "metadata": {},
   "outputs": [
    {
     "data": {
      "text/plain": [
       "0.9333333333333333"
      ]
     },
     "execution_count": 32,
     "metadata": {},
     "output_type": "execute_result"
    }
   ],
   "source": [
    "# check accuracy with real result\n",
    "from sklearn.metrics import accuracy_score\n",
    "\n",
    "accuracy_score(y_test, pred)"
   ]
  },
  {
   "cell_type": "code",
   "execution_count": 35,
   "id": "7fe33612",
   "metadata": {},
   "outputs": [
    {
     "data": {
      "text/plain": [
       "dict_keys(['data', 'target', 'frame', 'target_names', 'DESCR', 'feature_names', 'filename'])"
      ]
     },
     "execution_count": 35,
     "metadata": {},
     "output_type": "execute_result"
    }
   ],
   "source": [
    "# 보통 딕셔너리 형태로 되어 있기 때문에, keys를 보면 어떤 정보들이 들어있는지 확인 가능\n",
    "keys = iris.keys()\n",
    "keys"
   ]
  },
  {
   "cell_type": "code",
   "execution_count": 41,
   "id": "96e25842",
   "metadata": {},
   "outputs": [],
   "source": [
    "# if train data is biased, then test result will be good but actual result will be bad\n",
    "# so, need to have a cross-validation\n",
    "# 1) KFold, divide by k and make k-1 train, 1 test , repeat k times\n",
    "\n",
    "\n",
    "from sklearn.tree import DecisionTreeClassifier\n",
    "from sklearn.metrics import accuracy_score\n",
    "from sklearn.model_selection import KFold\n",
    "from sklearn.datasets import load_iris\n",
    "import numpy as np\n",
    "import pandas as pd\n",
    "\n",
    "iris = load_iris()\n",
    "features = iris.data\n",
    "label = iris.target\n",
    "\n",
    "dt_clf = DecisionTreeClassifier(random_state=156)"
   ]
  },
  {
   "cell_type": "code",
   "execution_count": 72,
   "id": "b6e1bca5",
   "metadata": {},
   "outputs": [],
   "source": [
    "# divide 5 sets to make 4 train / 1 test sets iterated by 5 times\n",
    "# create KFold object by n_splits = 5, which is # of divided sets\n",
    "kfold = KFold(n_splits=5)\n",
    "\n",
    "# to check accuracy for every iteration, create an empty list\n",
    "cv_accuracy = []\n",
    "\n",
    "# print(features.shape[0])"
   ]
  },
  {
   "cell_type": "code",
   "execution_count": 73,
   "id": "442c599c",
   "metadata": {},
   "outputs": [
    {
     "data": {
      "text/plain": [
       "<generator object _BaseKFold.split at 0x7f89d004c970>"
      ]
     },
     "execution_count": 73,
     "metadata": {},
     "output_type": "execute_result"
    }
   ],
   "source": [
    "\n",
    "kfold.split(features)"
   ]
  },
  {
   "cell_type": "code",
   "execution_count": 74,
   "id": "f37640da",
   "metadata": {},
   "outputs": [
    {
     "name": "stdout",
     "output_type": "stream",
     "text": [
      "1 th trial: accuracy:1.0, train_size:120, test_size:30\n",
      "1 th trial test index:[ 0  1  2  3  4  5  6  7  8  9 10 11 12 13 14 15 16 17 18 19 20 21 22 23\n",
      " 24 25 26 27 28 29]\n",
      "2 th trial: accuracy:0.9667, train_size:120, test_size:30\n",
      "2 th trial test index:[30 31 32 33 34 35 36 37 38 39 40 41 42 43 44 45 46 47 48 49 50 51 52 53\n",
      " 54 55 56 57 58 59]\n",
      "3 th trial: accuracy:0.8667, train_size:120, test_size:30\n",
      "3 th trial test index:[60 61 62 63 64 65 66 67 68 69 70 71 72 73 74 75 76 77 78 79 80 81 82 83\n",
      " 84 85 86 87 88 89]\n",
      "4 th trial: accuracy:0.9333, train_size:120, test_size:30\n",
      "4 th trial test index:[ 90  91  92  93  94  95  96  97  98  99 100 101 102 103 104 105 106 107\n",
      " 108 109 110 111 112 113 114 115 116 117 118 119]\n",
      "5 th trial: accuracy:0.7333, train_size:120, test_size:30\n",
      "5 th trial test index:[120 121 122 123 124 125 126 127 128 129 130 131 132 133 134 135 136 137\n",
      " 138 139 140 141 142 143 144 145 146 147 148 149]\n",
      "0.9\n"
     ]
    }
   ],
   "source": [
    "# \n",
    "n_iter = 0\n",
    "\n",
    "# split features by n_splits. result will be a tuple(train(n-1), test(1))\n",
    "# each train_index and test_index has index numbers\n",
    "for train_index, test_index in kfold.split(features):\n",
    "    \n",
    "    # map features/labels by train, test index \n",
    "    X_train, X_test = features[train_index], features[test_index]\n",
    "    y_train, y_test = label[train_index], label[test_index]\n",
    "    \n",
    "    # fit and predict for dt_clf\n",
    "    dt_clf.fit(X_train, y_train)\n",
    "    pred = dt_clf.predict(X_test)\n",
    "    \n",
    "    # iteration add by 1\n",
    "    n_iter += 1\n",
    "    \n",
    "    # check accuracy score\n",
    "    accuracy = np.round(accuracy_score(y_test, pred), 4)\n",
    "    \n",
    "    # this is to check train_size and test_size\n",
    "    train_size = X_train.shape[0]\n",
    "    test_size = X_test.shape[0]\n",
    "    \n",
    "    # print accuracy w iteration and train/test size\n",
    "    print('{0} th trial: accuracy:{1}, train_size:{2}, test_size:{3}'\n",
    "          .format(n_iter, accuracy, train_size, test_size))\n",
    "    \n",
    "    # also print test index values\n",
    "    print('{0} th trial test index:{1}'.format(n_iter, test_index))\n",
    "    \n",
    "    # append to list\n",
    "    cv_accuracy.append(accuracy)\n",
    "    \n",
    "# print avearge accuracy\n",
    "print(np.mean(cv_accuracy))"
   ]
  },
  {
   "cell_type": "code",
   "execution_count": 75,
   "id": "2e18eeab",
   "metadata": {},
   "outputs": [
    {
     "data": {
      "text/plain": [
       "0    50\n",
       "1    50\n",
       "2    50\n",
       "Name: label, dtype: int64"
      ]
     },
     "execution_count": 75,
     "metadata": {},
     "output_type": "execute_result"
    }
   ],
   "source": [
    "# but, KFold can also have bias\n",
    "# if abnormal data is 1% and rest is 99%, then just dividing total sets equally will still get bias\n",
    "# so, we need to split data similar to origin data's distribution\n",
    "# Stratified K fold recognizes origin data distribution and split train/test data similarly\n",
    "\n",
    "import pandas as pd\n",
    "\n",
    "iris = load_iris()\n",
    "iris_df = pd.DataFrame(iris.data, columns=iris.feature_names)\n",
    "iris_df['label'] = iris.target\n",
    "\n",
    "# checking distribution of target values \n",
    "iris_df['label'].value_counts()"
   ]
  },
  {
   "cell_type": "code",
   "execution_count": 82,
   "id": "8f6ad338",
   "metadata": {},
   "outputs": [
    {
     "name": "stdout",
     "output_type": "stream",
     "text": [
      "train:\n",
      " 1    50\n",
      "2    50\n",
      "Name: label, dtype: int64\n",
      "test:\n",
      " 0    50\n",
      "Name: label, dtype: int64\n",
      "train:\n",
      " 0    50\n",
      "2    50\n",
      "Name: label, dtype: int64\n",
      "test:\n",
      " 1    50\n",
      "Name: label, dtype: int64\n",
      "train:\n",
      " 0    50\n",
      "1    50\n",
      "Name: label, dtype: int64\n",
      "test:\n",
      " 2    50\n",
      "Name: label, dtype: int64\n"
     ]
    }
   ],
   "source": [
    "# kfold case, if divided by 3, each train set has only two target values\n",
    "# Rest target value cannot occur since there is no rest value trained for each sets\n",
    "kfold = KFold(n_splits=3)\n",
    "n_iter = 0\n",
    "\n",
    "for train_index, test_index in kfold.split(iris_df):\n",
    "    n_iter += 1\n",
    "    label_train = iris_df['label'][train_index]\n",
    "    label_test = iris_df['label'][test_index]\n",
    "    \n",
    "    print('train:\\n', label_train.value_counts())\n",
    "    print('test:\\n', label_test.value_counts())"
   ]
  },
  {
   "cell_type": "code",
   "execution_count": 81,
   "id": "3e25c028",
   "metadata": {},
   "outputs": [
    {
     "name": "stdout",
     "output_type": "stream",
     "text": [
      "2    34\n",
      "0    33\n",
      "1    33\n",
      "Name: label, dtype: int64\n",
      "\n",
      "0    17\n",
      "1    17\n",
      "2    16\n",
      "Name: label, dtype: int64\n",
      "1    34\n",
      "0    33\n",
      "2    33\n",
      "Name: label, dtype: int64\n",
      "\n",
      "0    17\n",
      "2    17\n",
      "1    16\n",
      "Name: label, dtype: int64\n",
      "0    34\n",
      "1    33\n",
      "2    33\n",
      "Name: label, dtype: int64\n",
      "\n",
      "1    17\n",
      "2    17\n",
      "0    16\n",
      "Name: label, dtype: int64\n"
     ]
    }
   ],
   "source": [
    "# Using stratifiedKFold\n",
    "from sklearn.model_selection import StratifiedKFold\n",
    "\n",
    "skf = StratifiedKFold(n_splits=3)\n",
    "n_iter = 0 \n",
    "\n",
    "# skf.split(data, target) or (whole data, target)\n",
    "for train_index, test_index in skf.split(iris_df, iris_df['label']):\n",
    "    n_iter += 1\n",
    "    label_train = iris_df['label'][train_index] \n",
    "    label_test = iris_df['label'][test_index]\n",
    "    \n",
    "    print(label_train.value_counts())\n",
    "    print()\n",
    "    print(label_test.value_counts())"
   ]
  },
  {
   "cell_type": "code",
   "execution_count": 84,
   "id": "c7c1fd02",
   "metadata": {},
   "outputs": [],
   "source": [
    "# Conclusion\n",
    "\n",
    "from sklearn.datasets import load_iris\n",
    "from sklearn.tree import DecisionTreeClassifier\n",
    "from sklearn.metrics import accuracy_score\n",
    "\n",
    "import numpy as np\n",
    "import pandas as pd\n",
    "\n",
    "from sklearn.model_selection import KFold, StratifiedKFold\n",
    "\n",
    "iris = load_iris()\n",
    "feature = iris.data\n",
    "label = iris.target\n"
   ]
  },
  {
   "cell_type": "code",
   "execution_count": 87,
   "id": "7868c8ce",
   "metadata": {},
   "outputs": [
    {
     "name": "stdout",
     "output_type": "stream",
     "text": [
      "0.0\n",
      "0.0\n",
      "0.0\n",
      "0.0\n"
     ]
    }
   ],
   "source": [
    "# kfold: Wow, worst case ever, because train set / test set are disjoint so cannot predict(wrong answer for all)\n",
    "\n",
    "kfold = KFold(n_splits=3)\n",
    "dt_clf = DecisionTreeClassifier(random_state=11)\n",
    "\n",
    "cv_accuracy = []\n",
    "\n",
    "for train_index, test_index in kfold.split(feature):\n",
    "    X_train, X_test = feature[train_index], feature[test_index]\n",
    "    y_train, y_test = label[train_index], label[test_index]\n",
    "    \n",
    "    dt_clf.fit(X_train, y_train)\n",
    "    pred = dt_clf.predict(X_test)\n",
    "    \n",
    "    accuracy = accuracy_score(y_test, pred)\n",
    "    print(accuracy)\n",
    "    cv_accuracy.append(accuracy)\n",
    "    \n",
    "\n",
    "print(np.mean(cv_accuracy))\n",
    "    "
   ]
  },
  {
   "cell_type": "code",
   "execution_count": 88,
   "id": "5148fd18",
   "metadata": {},
   "outputs": [
    {
     "name": "stdout",
     "output_type": "stream",
     "text": [
      "0.98\n",
      "0.92\n",
      "0.98\n",
      "0.96\n"
     ]
    }
   ],
   "source": [
    "# Stratified KFold: high accuracy, at least won't get 0% \n",
    "\n",
    "skf = StratifiedKFold(n_splits=3)\n",
    "dt_clf = DecisionTreeClassifier(random_state=11)\n",
    "\n",
    "cv_accuracy = []\n",
    "\n",
    "for train_index, test_index in skf.split(feature, label):\n",
    "    X_train, X_test = feature[train_index], feature[test_index]\n",
    "    y_train, y_test = label[train_index], label[test_index]\n",
    "    \n",
    "    dt_clf.fit(X_train, y_train)\n",
    "    pred = dt_clf.predict(X_test)\n",
    "    \n",
    "    accuracy = accuracy_score(y_test, pred)\n",
    "    print(accuracy)\n",
    "    cv_accuracy.append(accuracy)\n",
    "    \n",
    "\n",
    "print(np.mean(cv_accuracy))\n",
    "    "
   ]
  },
  {
   "cell_type": "code",
   "execution_count": 89,
   "id": "9d20fd23",
   "metadata": {},
   "outputs": [],
   "source": [
    "# GridSearchCV - hyper parameter tuning method \n",
    "grid_parameters = {'max_depth': [1,2,3],\n",
    "                   'min_samples_split': [2,3]\n",
    "                  }"
   ]
  },
  {
   "cell_type": "code",
   "execution_count": 111,
   "id": "2ee5fcdf",
   "metadata": {},
   "outputs": [],
   "source": [
    "from sklearn.datasets import load_iris\n",
    "from sklearn.tree import DecisionTreeClassifier\n",
    "from sklearn.model_selection import GridSearchCV, train_test_split\n",
    "\n",
    "\n",
    "iris_data = load_iris()\n",
    "X_train, X_test, y_train, y_test = train_test_split(iris_data.data, iris_data.target,test_size=0.2, random_state=11)\n",
    "\n",
    "dtree = DecisionTreeClassifier(random_state=11)\n",
    "\n",
    "grid_parameters = {'max_depth': [1,2,3], 'min_samples_split': [2,3]}\n"
   ]
  },
  {
   "cell_type": "code",
   "execution_count": 112,
   "id": "dbb54991",
   "metadata": {},
   "outputs": [],
   "source": [
    "import pandas as pd\n",
    "\n",
    "grid_dtree = GridSearchCV(dtree, grid_parameters, cv=3, refit=True)"
   ]
  },
  {
   "cell_type": "code",
   "execution_count": 113,
   "id": "a2e91ca3",
   "metadata": {},
   "outputs": [
    {
     "data": {
      "text/plain": [
       "GridSearchCV(cv=3, estimator=DecisionTreeClassifier(random_state=11),\n",
       "             param_grid={'max_depth': [1, 2, 3], 'min_samples_split': [2, 3]})"
      ]
     },
     "execution_count": 113,
     "metadata": {},
     "output_type": "execute_result"
    }
   ],
   "source": [
    "# creates all results, but also saves best parameter result(refit=True)\n",
    "grid_dtree.fit(X_train, y_train)"
   ]
  },
  {
   "cell_type": "code",
   "execution_count": 114,
   "id": "71661b44",
   "metadata": {},
   "outputs": [],
   "source": [
    "scores_df = pd.DataFrame(grid_dtree.cv_results_)"
   ]
  },
  {
   "cell_type": "code",
   "execution_count": 115,
   "id": "84d98bb6",
   "metadata": {},
   "outputs": [
    {
     "data": {
      "text/html": [
       "<div>\n",
       "<style scoped>\n",
       "    .dataframe tbody tr th:only-of-type {\n",
       "        vertical-align: middle;\n",
       "    }\n",
       "\n",
       "    .dataframe tbody tr th {\n",
       "        vertical-align: top;\n",
       "    }\n",
       "\n",
       "    .dataframe thead th {\n",
       "        text-align: right;\n",
       "    }\n",
       "</style>\n",
       "<table border=\"1\" class=\"dataframe\">\n",
       "  <thead>\n",
       "    <tr style=\"text-align: right;\">\n",
       "      <th></th>\n",
       "      <th>mean_fit_time</th>\n",
       "      <th>std_fit_time</th>\n",
       "      <th>mean_score_time</th>\n",
       "      <th>std_score_time</th>\n",
       "      <th>param_max_depth</th>\n",
       "      <th>param_min_samples_split</th>\n",
       "      <th>params</th>\n",
       "      <th>split0_test_score</th>\n",
       "      <th>split1_test_score</th>\n",
       "      <th>split2_test_score</th>\n",
       "      <th>mean_test_score</th>\n",
       "      <th>std_test_score</th>\n",
       "      <th>rank_test_score</th>\n",
       "    </tr>\n",
       "  </thead>\n",
       "  <tbody>\n",
       "    <tr>\n",
       "      <th>0</th>\n",
       "      <td>0.001706</td>\n",
       "      <td>0.000291</td>\n",
       "      <td>0.000567</td>\n",
       "      <td>0.000085</td>\n",
       "      <td>1</td>\n",
       "      <td>2</td>\n",
       "      <td>{'max_depth': 1, 'min_samples_split': 2}</td>\n",
       "      <td>0.675</td>\n",
       "      <td>0.675</td>\n",
       "      <td>0.675</td>\n",
       "      <td>0.675000</td>\n",
       "      <td>1.110223e-16</td>\n",
       "      <td>5</td>\n",
       "    </tr>\n",
       "    <tr>\n",
       "      <th>1</th>\n",
       "      <td>0.001596</td>\n",
       "      <td>0.000251</td>\n",
       "      <td>0.000519</td>\n",
       "      <td>0.000093</td>\n",
       "      <td>1</td>\n",
       "      <td>3</td>\n",
       "      <td>{'max_depth': 1, 'min_samples_split': 3}</td>\n",
       "      <td>0.675</td>\n",
       "      <td>0.675</td>\n",
       "      <td>0.675</td>\n",
       "      <td>0.675000</td>\n",
       "      <td>1.110223e-16</td>\n",
       "      <td>5</td>\n",
       "    </tr>\n",
       "    <tr>\n",
       "      <th>2</th>\n",
       "      <td>0.000786</td>\n",
       "      <td>0.000031</td>\n",
       "      <td>0.000270</td>\n",
       "      <td>0.000011</td>\n",
       "      <td>2</td>\n",
       "      <td>2</td>\n",
       "      <td>{'max_depth': 2, 'min_samples_split': 2}</td>\n",
       "      <td>0.925</td>\n",
       "      <td>1.000</td>\n",
       "      <td>0.950</td>\n",
       "      <td>0.958333</td>\n",
       "      <td>3.118048e-02</td>\n",
       "      <td>3</td>\n",
       "    </tr>\n",
       "    <tr>\n",
       "      <th>3</th>\n",
       "      <td>0.000773</td>\n",
       "      <td>0.000062</td>\n",
       "      <td>0.000260</td>\n",
       "      <td>0.000015</td>\n",
       "      <td>2</td>\n",
       "      <td>3</td>\n",
       "      <td>{'max_depth': 2, 'min_samples_split': 3}</td>\n",
       "      <td>0.925</td>\n",
       "      <td>1.000</td>\n",
       "      <td>0.950</td>\n",
       "      <td>0.958333</td>\n",
       "      <td>3.118048e-02</td>\n",
       "      <td>3</td>\n",
       "    </tr>\n",
       "    <tr>\n",
       "      <th>4</th>\n",
       "      <td>0.000690</td>\n",
       "      <td>0.000046</td>\n",
       "      <td>0.000234</td>\n",
       "      <td>0.000018</td>\n",
       "      <td>3</td>\n",
       "      <td>2</td>\n",
       "      <td>{'max_depth': 3, 'min_samples_split': 2}</td>\n",
       "      <td>0.925</td>\n",
       "      <td>1.000</td>\n",
       "      <td>0.975</td>\n",
       "      <td>0.966667</td>\n",
       "      <td>3.118048e-02</td>\n",
       "      <td>1</td>\n",
       "    </tr>\n",
       "  </tbody>\n",
       "</table>\n",
       "</div>"
      ],
      "text/plain": [
       "   mean_fit_time  std_fit_time  mean_score_time  std_score_time  \\\n",
       "0       0.001706      0.000291         0.000567        0.000085   \n",
       "1       0.001596      0.000251         0.000519        0.000093   \n",
       "2       0.000786      0.000031         0.000270        0.000011   \n",
       "3       0.000773      0.000062         0.000260        0.000015   \n",
       "4       0.000690      0.000046         0.000234        0.000018   \n",
       "\n",
       "  param_max_depth param_min_samples_split  \\\n",
       "0               1                       2   \n",
       "1               1                       3   \n",
       "2               2                       2   \n",
       "3               2                       3   \n",
       "4               3                       2   \n",
       "\n",
       "                                     params  split0_test_score  \\\n",
       "0  {'max_depth': 1, 'min_samples_split': 2}              0.675   \n",
       "1  {'max_depth': 1, 'min_samples_split': 3}              0.675   \n",
       "2  {'max_depth': 2, 'min_samples_split': 2}              0.925   \n",
       "3  {'max_depth': 2, 'min_samples_split': 3}              0.925   \n",
       "4  {'max_depth': 3, 'min_samples_split': 2}              0.925   \n",
       "\n",
       "   split1_test_score  split2_test_score  mean_test_score  std_test_score  \\\n",
       "0              0.675              0.675         0.675000    1.110223e-16   \n",
       "1              0.675              0.675         0.675000    1.110223e-16   \n",
       "2              1.000              0.950         0.958333    3.118048e-02   \n",
       "3              1.000              0.950         0.958333    3.118048e-02   \n",
       "4              1.000              0.975         0.966667    3.118048e-02   \n",
       "\n",
       "   rank_test_score  \n",
       "0                5  \n",
       "1                5  \n",
       "2                3  \n",
       "3                3  \n",
       "4                1  "
      ]
     },
     "execution_count": 115,
     "metadata": {},
     "output_type": "execute_result"
    }
   ],
   "source": [
    "scores_df.head()"
   ]
  },
  {
   "cell_type": "code",
   "execution_count": 116,
   "id": "cfeaa70d",
   "metadata": {},
   "outputs": [
    {
     "data": {
      "text/html": [
       "<div>\n",
       "<style scoped>\n",
       "    .dataframe tbody tr th:only-of-type {\n",
       "        vertical-align: middle;\n",
       "    }\n",
       "\n",
       "    .dataframe tbody tr th {\n",
       "        vertical-align: top;\n",
       "    }\n",
       "\n",
       "    .dataframe thead th {\n",
       "        text-align: right;\n",
       "    }\n",
       "</style>\n",
       "<table border=\"1\" class=\"dataframe\">\n",
       "  <thead>\n",
       "    <tr style=\"text-align: right;\">\n",
       "      <th></th>\n",
       "      <th>params</th>\n",
       "      <th>mean_test_score</th>\n",
       "      <th>rank_test_score</th>\n",
       "      <th>split0_test_score</th>\n",
       "      <th>split1_test_score</th>\n",
       "      <th>split2_test_score</th>\n",
       "    </tr>\n",
       "  </thead>\n",
       "  <tbody>\n",
       "    <tr>\n",
       "      <th>0</th>\n",
       "      <td>{'max_depth': 1, 'min_samples_split': 2}</td>\n",
       "      <td>0.675000</td>\n",
       "      <td>5</td>\n",
       "      <td>0.675</td>\n",
       "      <td>0.675</td>\n",
       "      <td>0.675</td>\n",
       "    </tr>\n",
       "    <tr>\n",
       "      <th>1</th>\n",
       "      <td>{'max_depth': 1, 'min_samples_split': 3}</td>\n",
       "      <td>0.675000</td>\n",
       "      <td>5</td>\n",
       "      <td>0.675</td>\n",
       "      <td>0.675</td>\n",
       "      <td>0.675</td>\n",
       "    </tr>\n",
       "    <tr>\n",
       "      <th>2</th>\n",
       "      <td>{'max_depth': 2, 'min_samples_split': 2}</td>\n",
       "      <td>0.958333</td>\n",
       "      <td>3</td>\n",
       "      <td>0.925</td>\n",
       "      <td>1.000</td>\n",
       "      <td>0.950</td>\n",
       "    </tr>\n",
       "    <tr>\n",
       "      <th>3</th>\n",
       "      <td>{'max_depth': 2, 'min_samples_split': 3}</td>\n",
       "      <td>0.958333</td>\n",
       "      <td>3</td>\n",
       "      <td>0.925</td>\n",
       "      <td>1.000</td>\n",
       "      <td>0.950</td>\n",
       "    </tr>\n",
       "    <tr>\n",
       "      <th>4</th>\n",
       "      <td>{'max_depth': 3, 'min_samples_split': 2}</td>\n",
       "      <td>0.966667</td>\n",
       "      <td>1</td>\n",
       "      <td>0.925</td>\n",
       "      <td>1.000</td>\n",
       "      <td>0.975</td>\n",
       "    </tr>\n",
       "    <tr>\n",
       "      <th>5</th>\n",
       "      <td>{'max_depth': 3, 'min_samples_split': 3}</td>\n",
       "      <td>0.966667</td>\n",
       "      <td>1</td>\n",
       "      <td>0.925</td>\n",
       "      <td>1.000</td>\n",
       "      <td>0.975</td>\n",
       "    </tr>\n",
       "  </tbody>\n",
       "</table>\n",
       "</div>"
      ],
      "text/plain": [
       "                                     params  mean_test_score  rank_test_score  \\\n",
       "0  {'max_depth': 1, 'min_samples_split': 2}         0.675000                5   \n",
       "1  {'max_depth': 1, 'min_samples_split': 3}         0.675000                5   \n",
       "2  {'max_depth': 2, 'min_samples_split': 2}         0.958333                3   \n",
       "3  {'max_depth': 2, 'min_samples_split': 3}         0.958333                3   \n",
       "4  {'max_depth': 3, 'min_samples_split': 2}         0.966667                1   \n",
       "5  {'max_depth': 3, 'min_samples_split': 3}         0.966667                1   \n",
       "\n",
       "   split0_test_score  split1_test_score  split2_test_score  \n",
       "0              0.675              0.675              0.675  \n",
       "1              0.675              0.675              0.675  \n",
       "2              0.925              1.000              0.950  \n",
       "3              0.925              1.000              0.950  \n",
       "4              0.925              1.000              0.975  \n",
       "5              0.925              1.000              0.975  "
      ]
     },
     "execution_count": 116,
     "metadata": {},
     "output_type": "execute_result"
    }
   ],
   "source": [
    "scores_df[['params', 'mean_test_score', 'rank_test_score', 'split0_test_score', 'split1_test_score', 'split2_test_score']]"
   ]
  },
  {
   "cell_type": "code",
   "execution_count": 117,
   "id": "80d91841",
   "metadata": {},
   "outputs": [
    {
     "data": {
      "text/plain": [
       "{'max_depth': 3, 'min_samples_split': 2}"
      ]
     },
     "execution_count": 117,
     "metadata": {},
     "output_type": "execute_result"
    }
   ],
   "source": [
    "grid_dtree.best_params_"
   ]
  },
  {
   "cell_type": "code",
   "execution_count": 118,
   "id": "06ba2301",
   "metadata": {},
   "outputs": [
    {
     "data": {
      "text/plain": [
       "0.9666666666666667"
      ]
     },
     "execution_count": 118,
     "metadata": {},
     "output_type": "execute_result"
    }
   ],
   "source": [
    "grid_dtree.best_score_"
   ]
  },
  {
   "cell_type": "code",
   "execution_count": 106,
   "id": "a1ae461b",
   "metadata": {},
   "outputs": [
    {
     "data": {
      "text/plain": [
       "DecisionTreeClassifier(max_depth=3, random_state=11)"
      ]
     },
     "execution_count": 106,
     "metadata": {},
     "output_type": "execute_result"
    }
   ],
   "source": [
    "grid_dtree.best_estimator_"
   ]
  },
  {
   "cell_type": "code",
   "execution_count": 121,
   "id": "808c3871",
   "metadata": {},
   "outputs": [
    {
     "data": {
      "text/plain": [
       "0.9333333333333333"
      ]
     },
     "execution_count": 121,
     "metadata": {},
     "output_type": "execute_result"
    }
   ],
   "source": [
    "# don't do fit again, just predict\n",
    "pred = grid_dtree.predict(X_test)\n",
    "\n",
    "accuracy_score(y_test, pred)"
   ]
  },
  {
   "cell_type": "code",
   "execution_count": 122,
   "id": "beac9338",
   "metadata": {},
   "outputs": [
    {
     "data": {
      "text/plain": [
       "0.9333333333333333"
      ]
     },
     "execution_count": 122,
     "metadata": {},
     "output_type": "execute_result"
    }
   ],
   "source": [
    "estimator = grid_dtree.best_estimator_\n",
    "pred2 = estimator.predict(X_test)\n",
    "\n",
    "accuracy_score(y_test, pred2)"
   ]
  }
 ],
 "metadata": {
  "kernelspec": {
   "display_name": "Python 3",
   "language": "python",
   "name": "python3"
  },
  "language_info": {
   "codemirror_mode": {
    "name": "ipython",
    "version": 3
   },
   "file_extension": ".py",
   "mimetype": "text/x-python",
   "name": "python",
   "nbconvert_exporter": "python",
   "pygments_lexer": "ipython3",
   "version": "3.8.8"
  }
 },
 "nbformat": 4,
 "nbformat_minor": 5
}
