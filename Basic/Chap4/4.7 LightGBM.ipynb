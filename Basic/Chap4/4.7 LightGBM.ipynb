{
 "cells": [
  {
   "cell_type": "code",
   "execution_count": 2,
   "metadata": {},
   "outputs": [
    {
     "name": "stdout",
     "output_type": "stream",
     "text": [
      "2.1.0\n"
     ]
    }
   ],
   "source": [
    "import lightgbm\n",
    "\n",
    "print(lightgbm.__version__)"
   ]
  },
  {
   "cell_type": "markdown",
   "metadata": {},
   "source": [
    "### LightGBM 적용 – 위스콘신 Breast Cancer Prediction"
   ]
  },
  {
   "cell_type": "code",
   "execution_count": 3,
   "metadata": {},
   "outputs": [
    {
     "name": "stdout",
     "output_type": "stream",
     "text": [
      "[1]\tvalid_0's binary_logloss: 0.614872\n",
      "Training until validation scores don't improve for 100 rounds.\n",
      "[2]\tvalid_0's binary_logloss: 0.550424\n",
      "[3]\tvalid_0's binary_logloss: 0.497095\n",
      "[4]\tvalid_0's binary_logloss: 0.449481\n",
      "[5]\tvalid_0's binary_logloss: 0.414368\n",
      "[6]\tvalid_0's binary_logloss: 0.381005\n",
      "[7]\tvalid_0's binary_logloss: 0.349425\n",
      "[8]\tvalid_0's binary_logloss: 0.325225\n",
      "[9]\tvalid_0's binary_logloss: 0.300915\n",
      "[10]\tvalid_0's binary_logloss: 0.283436\n",
      "[11]\tvalid_0's binary_logloss: 0.265498\n",
      "[12]\tvalid_0's binary_logloss: 0.250054\n",
      "[13]\tvalid_0's binary_logloss: 0.236562\n",
      "[14]\tvalid_0's binary_logloss: 0.22509\n",
      "[15]\tvalid_0's binary_logloss: 0.214741\n",
      "[16]\tvalid_0's binary_logloss: 0.206876\n",
      "[17]\tvalid_0's binary_logloss: 0.198085\n",
      "[18]\tvalid_0's binary_logloss: 0.190907\n",
      "[19]\tvalid_0's binary_logloss: 0.181494\n",
      "[20]\tvalid_0's binary_logloss: 0.173462\n",
      "[21]\tvalid_0's binary_logloss: 0.1672\n",
      "[22]\tvalid_0's binary_logloss: 0.160914\n",
      "[23]\tvalid_0's binary_logloss: 0.156162\n",
      "[24]\tvalid_0's binary_logloss: 0.152263\n",
      "[25]\tvalid_0's binary_logloss: 0.144638\n",
      "[26]\tvalid_0's binary_logloss: 0.140135\n",
      "[27]\tvalid_0's binary_logloss: 0.135741\n",
      "[28]\tvalid_0's binary_logloss: 0.132252\n",
      "[29]\tvalid_0's binary_logloss: 0.130786\n",
      "[30]\tvalid_0's binary_logloss: 0.13122\n",
      "[31]\tvalid_0's binary_logloss: 0.127583\n",
      "[32]\tvalid_0's binary_logloss: 0.125351\n",
      "[33]\tvalid_0's binary_logloss: 0.120765\n",
      "[34]\tvalid_0's binary_logloss: 0.116044\n",
      "[35]\tvalid_0's binary_logloss: 0.114636\n",
      "[36]\tvalid_0's binary_logloss: 0.115021\n",
      "[37]\tvalid_0's binary_logloss: 0.11225\n",
      "[38]\tvalid_0's binary_logloss: 0.112672\n",
      "[39]\tvalid_0's binary_logloss: 0.112078\n",
      "[40]\tvalid_0's binary_logloss: 0.111472\n",
      "[41]\tvalid_0's binary_logloss: 0.112868\n",
      "[42]\tvalid_0's binary_logloss: 0.113805\n",
      "[43]\tvalid_0's binary_logloss: 0.111621\n",
      "[44]\tvalid_0's binary_logloss: 0.113316\n",
      "[45]\tvalid_0's binary_logloss: 0.112703\n",
      "[46]\tvalid_0's binary_logloss: 0.112621\n",
      "[47]\tvalid_0's binary_logloss: 0.114047\n",
      "[48]\tvalid_0's binary_logloss: 0.11646\n",
      "[49]\tvalid_0's binary_logloss: 0.11804\n",
      "[50]\tvalid_0's binary_logloss: 0.117546\n",
      "[51]\tvalid_0's binary_logloss: 0.116963\n",
      "[52]\tvalid_0's binary_logloss: 0.117518\n",
      "[53]\tvalid_0's binary_logloss: 0.117933\n",
      "[54]\tvalid_0's binary_logloss: 0.118838\n",
      "[55]\tvalid_0's binary_logloss: 0.119101\n",
      "[56]\tvalid_0's binary_logloss: 0.120001\n",
      "[57]\tvalid_0's binary_logloss: 0.118411\n",
      "[58]\tvalid_0's binary_logloss: 0.118695\n",
      "[59]\tvalid_0's binary_logloss: 0.117512\n",
      "[60]\tvalid_0's binary_logloss: 0.117793\n",
      "[61]\tvalid_0's binary_logloss: 0.119033\n",
      "[62]\tvalid_0's binary_logloss: 0.118869\n",
      "[63]\tvalid_0's binary_logloss: 0.12047\n",
      "[64]\tvalid_0's binary_logloss: 0.11909\n",
      "[65]\tvalid_0's binary_logloss: 0.118759\n",
      "[66]\tvalid_0's binary_logloss: 0.121258\n",
      "[67]\tvalid_0's binary_logloss: 0.119557\n",
      "[68]\tvalid_0's binary_logloss: 0.119182\n",
      "[69]\tvalid_0's binary_logloss: 0.118941\n",
      "[70]\tvalid_0's binary_logloss: 0.118697\n",
      "[71]\tvalid_0's binary_logloss: 0.119549\n",
      "[72]\tvalid_0's binary_logloss: 0.120924\n",
      "[73]\tvalid_0's binary_logloss: 0.120274\n",
      "[74]\tvalid_0's binary_logloss: 0.122415\n",
      "[75]\tvalid_0's binary_logloss: 0.122802\n",
      "[76]\tvalid_0's binary_logloss: 0.121592\n",
      "[77]\tvalid_0's binary_logloss: 0.123246\n",
      "[78]\tvalid_0's binary_logloss: 0.125394\n",
      "[79]\tvalid_0's binary_logloss: 0.126496\n",
      "[80]\tvalid_0's binary_logloss: 0.126031\n",
      "[81]\tvalid_0's binary_logloss: 0.12885\n",
      "[82]\tvalid_0's binary_logloss: 0.129289\n",
      "[83]\tvalid_0's binary_logloss: 0.130373\n",
      "[84]\tvalid_0's binary_logloss: 0.131823\n",
      "[85]\tvalid_0's binary_logloss: 0.133759\n",
      "[86]\tvalid_0's binary_logloss: 0.133971\n",
      "[87]\tvalid_0's binary_logloss: 0.135448\n",
      "[88]\tvalid_0's binary_logloss: 0.137522\n",
      "[89]\tvalid_0's binary_logloss: 0.139486\n",
      "[90]\tvalid_0's binary_logloss: 0.141503\n",
      "[91]\tvalid_0's binary_logloss: 0.143603\n",
      "[92]\tvalid_0's binary_logloss: 0.145284\n",
      "[93]\tvalid_0's binary_logloss: 0.147958\n",
      "[94]\tvalid_0's binary_logloss: 0.145053\n",
      "[95]\tvalid_0's binary_logloss: 0.146998\n",
      "[96]\tvalid_0's binary_logloss: 0.145528\n",
      "[97]\tvalid_0's binary_logloss: 0.14453\n",
      "[98]\tvalid_0's binary_logloss: 0.146676\n",
      "[99]\tvalid_0's binary_logloss: 0.148082\n",
      "[100]\tvalid_0's binary_logloss: 0.148896\n",
      "[101]\tvalid_0's binary_logloss: 0.148408\n",
      "[102]\tvalid_0's binary_logloss: 0.15026\n",
      "[103]\tvalid_0's binary_logloss: 0.151574\n",
      "[104]\tvalid_0's binary_logloss: 0.154725\n",
      "[105]\tvalid_0's binary_logloss: 0.15821\n",
      "[106]\tvalid_0's binary_logloss: 0.158945\n",
      "[107]\tvalid_0's binary_logloss: 0.160266\n",
      "[108]\tvalid_0's binary_logloss: 0.158948\n",
      "[109]\tvalid_0's binary_logloss: 0.161068\n",
      "[110]\tvalid_0's binary_logloss: 0.164555\n",
      "[111]\tvalid_0's binary_logloss: 0.164262\n",
      "[112]\tvalid_0's binary_logloss: 0.163297\n",
      "[113]\tvalid_0's binary_logloss: 0.164523\n",
      "[114]\tvalid_0's binary_logloss: 0.163787\n",
      "[115]\tvalid_0's binary_logloss: 0.165961\n",
      "[116]\tvalid_0's binary_logloss: 0.163576\n",
      "[117]\tvalid_0's binary_logloss: 0.166783\n",
      "[118]\tvalid_0's binary_logloss: 0.168178\n",
      "[119]\tvalid_0's binary_logloss: 0.166892\n",
      "[120]\tvalid_0's binary_logloss: 0.170601\n",
      "[121]\tvalid_0's binary_logloss: 0.174079\n",
      "[122]\tvalid_0's binary_logloss: 0.175411\n",
      "[123]\tvalid_0's binary_logloss: 0.178159\n",
      "[124]\tvalid_0's binary_logloss: 0.17829\n",
      "[125]\tvalid_0's binary_logloss: 0.179993\n",
      "[126]\tvalid_0's binary_logloss: 0.1786\n",
      "[127]\tvalid_0's binary_logloss: 0.180176\n",
      "[128]\tvalid_0's binary_logloss: 0.182569\n",
      "[129]\tvalid_0's binary_logloss: 0.180566\n",
      "[130]\tvalid_0's binary_logloss: 0.182573\n",
      "[131]\tvalid_0's binary_logloss: 0.179911\n",
      "[132]\tvalid_0's binary_logloss: 0.181185\n",
      "[133]\tvalid_0's binary_logloss: 0.181359\n",
      "[134]\tvalid_0's binary_logloss: 0.184895\n",
      "[135]\tvalid_0's binary_logloss: 0.183728\n",
      "[136]\tvalid_0's binary_logloss: 0.187889\n",
      "[137]\tvalid_0's binary_logloss: 0.190915\n",
      "[138]\tvalid_0's binary_logloss: 0.194048\n",
      "[139]\tvalid_0's binary_logloss: 0.197882\n",
      "[140]\tvalid_0's binary_logloss: 0.198944\n",
      "Early stopping, best iteration is:\n",
      "[40]\tvalid_0's binary_logloss: 0.111472\n"
     ]
    },
    {
     "name": "stderr",
     "output_type": "stream",
     "text": [
      "C:\\ProgramData\\Anaconda3\\lib\\site-packages\\sklearn\\preprocessing\\label.py:151: DeprecationWarning: The truth value of an empty array is ambiguous. Returning False, but in future this will result in an error. Use `array.size > 0` to check that an array is not empty.\n",
      "  if diff:\n"
     ]
    }
   ],
   "source": [
    "# LightGBM의 파이썬 패키지인 lightgbm에서 LGBMClassifier 임포트\n",
    "from lightgbm import LGBMClassifier\n",
    "\n",
    "import pandas as pd\n",
    "import numpy as np\n",
    "\n",
    "from sklearn.datasets import load_breast_cancer\n",
    "from sklearn.model_selection import train_test_split\n",
    "\n",
    "dataset = load_breast_cancer()\n",
    "ftr = dataset.data\n",
    "target = dataset.target\n",
    "\n",
    "\n",
    "# 전체 데이터 중 80%는 학습용 데이터, 20%는 테스트용 데이터 추출\n",
    "X_train, X_test, y_train, y_test=train_test_split(ftr, target, test_size=0.2, random_state=156 )\n",
    "\n",
    "# 앞서 XGBoost와 동일하게 n_estimators는 400 설정. \n",
    "lgbm_wrapper = LGBMClassifier(n_estimators=400)\n",
    "\n",
    "# LightGBM도 XGBoost와 동일하게 조기 중단 수행 가능. \n",
    "evals = [(X_test, y_test)]\n",
    "lgbm_wrapper.fit(X_train, y_train, early_stopping_rounds=100, eval_metric=\"logloss\", \n",
    "                 eval_set=evals, verbose=True)\n",
    "\n",
    "preds = lgbm_wrapper.predict(X_test)\n",
    "pred_proba = lgbm_wrapper.predict_proba(X_test)[:, 1]"
   ]
  },
  {
   "cell_type": "code",
   "execution_count": 5,
   "metadata": {},
   "outputs": [],
   "source": [
    "from sklearn.metrics import confusion_matrix, accuracy_score\n",
    "from sklearn.metrics import precision_score, recall_score\n",
    "from sklearn.metrics import f1_score, roc_auc_score\n",
    "\n",
    "# 수정된 get_clf_eval() 함수 \n",
    "def get_clf_eval(y_test, pred=None, pred_proba=None):\n",
    "    confusion = confusion_matrix( y_test, pred)\n",
    "    accuracy = accuracy_score(y_test , pred)\n",
    "    precision = precision_score(y_test , pred)\n",
    "    recall = recall_score(y_test , pred)\n",
    "    f1 = f1_score(y_test,pred)\n",
    "    # ROC-AUC 추가 \n",
    "    roc_auc = roc_auc_score(y_test, pred_proba)\n",
    "    print('오차 행렬')\n",
    "    print(confusion)\n",
    "    # ROC-AUC print 추가\n",
    "    print('정확도: {0:.4f}, 정밀도: {1:.4f}, 재현율: {2:.4f},\\\n",
    "    F1: {3:.4f}, AUC:{4:.4f}'.format(accuracy, precision, recall, f1, roc_auc))"
   ]
  },
  {
   "cell_type": "code",
   "execution_count": 6,
   "metadata": {},
   "outputs": [
    {
     "name": "stdout",
     "output_type": "stream",
     "text": [
      "오차 행렬\n",
      "[[33  4]\n",
      " [ 2 75]]\n",
      "정확도: 0.9474, 정밀도: 0.9494, 재현율: 0.9740,    F1: 0.9615, AUC:0.9933\n"
     ]
    }
   ],
   "source": [
    "get_clf_eval(y_test, preds, pred_proba)"
   ]
  },
  {
   "cell_type": "code",
   "execution_count": 7,
   "metadata": {},
   "outputs": [
    {
     "data": {
      "text/plain": [
       "<matplotlib.axes._subplots.AxesSubplot at 0x2497e27e5f8>"
      ]
     },
     "execution_count": 7,
     "metadata": {},
     "output_type": "execute_result"
    },
    {
     "data": {
      "image/png": "[encoded data removed]",
      "text/plain": [
       "<matplotlib.figure.Figure at 0x2497cda8358>"
      ]
     },
     "metadata": {},
     "output_type": "display_data"
    }
   ],
   "source": [
    "from lightgbm import plot_importance\n",
    "import matplotlib.pyplot as plt\n",
    "%matplotlib inline\n",
    "\n",
    "fig, ax = plt.subplots(figsize=(10, 12))\n",
    "# 사이킷런 래퍼 클래스를 입력해도 무방. \n",
    "plot_importance(lgbm_wrapper, ax=ax)"
   ]
  },
  {
   "cell_type": "code",
   "execution_count": null,
   "metadata": {},
   "outputs": [],
   "source": [
    "print(dataset.feature_names)"
   ]
  },
  {
   "cell_type": "code",
   "execution_count": null,
   "metadata": {},
   "outputs": [],
   "source": []
  }
 ],
 "metadata": {
  "kernelspec": {
   "display_name": "Python 3",
   "language": "python",
   "name": "python3"
  },
  "language_info": {
   "codemirror_mode": {
    "name": "ipython",
    "version": 3
   },
   "file_extension": ".py",
   "mimetype": "text/x-python",
   "name": "python",
   "nbconvert_exporter": "python",
   "pygments_lexer": "ipython3",
   "version": "3.8.5"
  }
 },
 "nbformat": 4,
 "nbformat_minor": 2
}
